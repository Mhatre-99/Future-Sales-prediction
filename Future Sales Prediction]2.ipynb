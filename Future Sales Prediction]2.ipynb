{
 "cells": [
  {
   "cell_type": "code",
   "execution_count": 1,
   "metadata": {},
   "outputs": [],
   "source": [
    "import pandas as pd \n",
    "import numpy as np\n",
    "import matplotlib.pyplot as plt\n",
    "import seaborn as sns"
   ]
  },
  {
   "cell_type": "code",
   "execution_count": 2,
   "metadata": {},
   "outputs": [],
   "source": [
    "sales = pd.read_csv('competitive-data-science-predict-future-sales\\sales_train.csv')"
   ]
  },
  {
   "cell_type": "code",
   "execution_count": 3,
   "metadata": {},
   "outputs": [],
   "source": [
    "item_cat = pd.read_csv('competitive-data-science-predict-future-sales\\item_categories.csv')"
   ]
  },
  {
   "cell_type": "code",
   "execution_count": 4,
   "metadata": {},
   "outputs": [],
   "source": [
    "items = pd.read_csv('competitive-data-science-predict-future-sales\\items.csv')"
   ]
  },
  {
   "cell_type": "code",
   "execution_count": 5,
   "metadata": {},
   "outputs": [],
   "source": [
    "shops = pd.read_csv('competitive-data-science-predict-future-sales\\shops.csv')"
   ]
  },
  {
   "cell_type": "markdown",
   "metadata": {},
   "source": [
    "Let's check the data"
   ]
  },
  {
   "cell_type": "markdown",
   "metadata": {},
   "source": [
    "- Sales data"
   ]
  },
  {
   "cell_type": "code",
   "execution_count": 6,
   "metadata": {},
   "outputs": [
    {
     "data": {
      "text/html": [
       "<div>\n",
       "<style scoped>\n",
       "    .dataframe tbody tr th:only-of-type {\n",
       "        vertical-align: middle;\n",
       "    }\n",
       "\n",
       "    .dataframe tbody tr th {\n",
       "        vertical-align: top;\n",
       "    }\n",
       "\n",
       "    .dataframe thead th {\n",
       "        text-align: right;\n",
       "    }\n",
       "</style>\n",
       "<table border=\"1\" class=\"dataframe\">\n",
       "  <thead>\n",
       "    <tr style=\"text-align: right;\">\n",
       "      <th></th>\n",
       "      <th>date</th>\n",
       "      <th>date_block_num</th>\n",
       "      <th>shop_id</th>\n",
       "      <th>item_id</th>\n",
       "      <th>item_price</th>\n",
       "      <th>item_cnt_day</th>\n",
       "    </tr>\n",
       "  </thead>\n",
       "  <tbody>\n",
       "    <tr>\n",
       "      <th>0</th>\n",
       "      <td>02.01.2013</td>\n",
       "      <td>0</td>\n",
       "      <td>59</td>\n",
       "      <td>22154</td>\n",
       "      <td>999.00</td>\n",
       "      <td>1.0</td>\n",
       "    </tr>\n",
       "    <tr>\n",
       "      <th>1</th>\n",
       "      <td>03.01.2013</td>\n",
       "      <td>0</td>\n",
       "      <td>25</td>\n",
       "      <td>2552</td>\n",
       "      <td>899.00</td>\n",
       "      <td>1.0</td>\n",
       "    </tr>\n",
       "    <tr>\n",
       "      <th>2</th>\n",
       "      <td>05.01.2013</td>\n",
       "      <td>0</td>\n",
       "      <td>25</td>\n",
       "      <td>2552</td>\n",
       "      <td>899.00</td>\n",
       "      <td>-1.0</td>\n",
       "    </tr>\n",
       "    <tr>\n",
       "      <th>3</th>\n",
       "      <td>06.01.2013</td>\n",
       "      <td>0</td>\n",
       "      <td>25</td>\n",
       "      <td>2554</td>\n",
       "      <td>1709.05</td>\n",
       "      <td>1.0</td>\n",
       "    </tr>\n",
       "    <tr>\n",
       "      <th>4</th>\n",
       "      <td>15.01.2013</td>\n",
       "      <td>0</td>\n",
       "      <td>25</td>\n",
       "      <td>2555</td>\n",
       "      <td>1099.00</td>\n",
       "      <td>1.0</td>\n",
       "    </tr>\n",
       "  </tbody>\n",
       "</table>\n",
       "</div>"
      ],
      "text/plain": [
       "         date  date_block_num  shop_id  item_id  item_price  item_cnt_day\n",
       "0  02.01.2013               0       59    22154      999.00           1.0\n",
       "1  03.01.2013               0       25     2552      899.00           1.0\n",
       "2  05.01.2013               0       25     2552      899.00          -1.0\n",
       "3  06.01.2013               0       25     2554     1709.05           1.0\n",
       "4  15.01.2013               0       25     2555     1099.00           1.0"
      ]
     },
     "execution_count": 6,
     "metadata": {},
     "output_type": "execute_result"
    }
   ],
   "source": [
    "sales.head()"
   ]
  },
  {
   "cell_type": "code",
   "execution_count": 7,
   "metadata": {},
   "outputs": [
    {
     "name": "stdout",
     "output_type": "stream",
     "text": [
      "<class 'pandas.core.frame.DataFrame'>\n",
      "RangeIndex: 2935849 entries, 0 to 2935848\n",
      "Data columns (total 6 columns):\n",
      " #   Column          Dtype  \n",
      "---  ------          -----  \n",
      " 0   date            object \n",
      " 1   date_block_num  int64  \n",
      " 2   shop_id         int64  \n",
      " 3   item_id         int64  \n",
      " 4   item_price      float64\n",
      " 5   item_cnt_day    float64\n",
      "dtypes: float64(2), int64(3), object(1)\n",
      "memory usage: 134.4+ MB\n"
     ]
    }
   ],
   "source": [
    "sales.info()"
   ]
  },
  {
   "cell_type": "code",
   "execution_count": 8,
   "metadata": {},
   "outputs": [
    {
     "data": {
      "text/plain": [
       "date              0\n",
       "date_block_num    0\n",
       "shop_id           0\n",
       "item_id           0\n",
       "item_price        0\n",
       "item_cnt_day      0\n",
       "dtype: int64"
      ]
     },
     "execution_count": 8,
     "metadata": {},
     "output_type": "execute_result"
    }
   ],
   "source": [
    "sales.isnull().sum()"
   ]
  },
  {
   "cell_type": "code",
   "execution_count": 9,
   "metadata": {},
   "outputs": [
    {
     "data": {
      "text/plain": [
       "date              0\n",
       "date_block_num    0\n",
       "shop_id           0\n",
       "item_id           0\n",
       "item_price        0\n",
       "item_cnt_day      0\n",
       "dtype: int64"
      ]
     },
     "execution_count": 9,
     "metadata": {},
     "output_type": "execute_result"
    }
   ],
   "source": [
    "sales.isna().sum()"
   ]
  },
  {
   "cell_type": "code",
   "execution_count": 10,
   "metadata": {},
   "outputs": [
    {
     "data": {
      "text/html": [
       "<div>\n",
       "<style scoped>\n",
       "    .dataframe tbody tr th:only-of-type {\n",
       "        vertical-align: middle;\n",
       "    }\n",
       "\n",
       "    .dataframe tbody tr th {\n",
       "        vertical-align: top;\n",
       "    }\n",
       "\n",
       "    .dataframe thead th {\n",
       "        text-align: right;\n",
       "    }\n",
       "</style>\n",
       "<table border=\"1\" class=\"dataframe\">\n",
       "  <thead>\n",
       "    <tr style=\"text-align: right;\">\n",
       "      <th></th>\n",
       "      <th>date_block_num</th>\n",
       "      <th>shop_id</th>\n",
       "      <th>item_id</th>\n",
       "      <th>item_price</th>\n",
       "      <th>item_cnt_day</th>\n",
       "    </tr>\n",
       "  </thead>\n",
       "  <tbody>\n",
       "    <tr>\n",
       "      <th>count</th>\n",
       "      <td>2.935849e+06</td>\n",
       "      <td>2.935849e+06</td>\n",
       "      <td>2.935849e+06</td>\n",
       "      <td>2.935849e+06</td>\n",
       "      <td>2.935849e+06</td>\n",
       "    </tr>\n",
       "    <tr>\n",
       "      <th>mean</th>\n",
       "      <td>1.456991e+01</td>\n",
       "      <td>3.300173e+01</td>\n",
       "      <td>1.019723e+04</td>\n",
       "      <td>8.908532e+02</td>\n",
       "      <td>1.242641e+00</td>\n",
       "    </tr>\n",
       "    <tr>\n",
       "      <th>std</th>\n",
       "      <td>9.422988e+00</td>\n",
       "      <td>1.622697e+01</td>\n",
       "      <td>6.324297e+03</td>\n",
       "      <td>1.729800e+03</td>\n",
       "      <td>2.618834e+00</td>\n",
       "    </tr>\n",
       "    <tr>\n",
       "      <th>min</th>\n",
       "      <td>0.000000e+00</td>\n",
       "      <td>0.000000e+00</td>\n",
       "      <td>0.000000e+00</td>\n",
       "      <td>-1.000000e+00</td>\n",
       "      <td>-2.200000e+01</td>\n",
       "    </tr>\n",
       "    <tr>\n",
       "      <th>25%</th>\n",
       "      <td>7.000000e+00</td>\n",
       "      <td>2.200000e+01</td>\n",
       "      <td>4.476000e+03</td>\n",
       "      <td>2.490000e+02</td>\n",
       "      <td>1.000000e+00</td>\n",
       "    </tr>\n",
       "    <tr>\n",
       "      <th>50%</th>\n",
       "      <td>1.400000e+01</td>\n",
       "      <td>3.100000e+01</td>\n",
       "      <td>9.343000e+03</td>\n",
       "      <td>3.990000e+02</td>\n",
       "      <td>1.000000e+00</td>\n",
       "    </tr>\n",
       "    <tr>\n",
       "      <th>75%</th>\n",
       "      <td>2.300000e+01</td>\n",
       "      <td>4.700000e+01</td>\n",
       "      <td>1.568400e+04</td>\n",
       "      <td>9.990000e+02</td>\n",
       "      <td>1.000000e+00</td>\n",
       "    </tr>\n",
       "    <tr>\n",
       "      <th>max</th>\n",
       "      <td>3.300000e+01</td>\n",
       "      <td>5.900000e+01</td>\n",
       "      <td>2.216900e+04</td>\n",
       "      <td>3.079800e+05</td>\n",
       "      <td>2.169000e+03</td>\n",
       "    </tr>\n",
       "  </tbody>\n",
       "</table>\n",
       "</div>"
      ],
      "text/plain": [
       "       date_block_num       shop_id       item_id    item_price  item_cnt_day\n",
       "count    2.935849e+06  2.935849e+06  2.935849e+06  2.935849e+06  2.935849e+06\n",
       "mean     1.456991e+01  3.300173e+01  1.019723e+04  8.908532e+02  1.242641e+00\n",
       "std      9.422988e+00  1.622697e+01  6.324297e+03  1.729800e+03  2.618834e+00\n",
       "min      0.000000e+00  0.000000e+00  0.000000e+00 -1.000000e+00 -2.200000e+01\n",
       "25%      7.000000e+00  2.200000e+01  4.476000e+03  2.490000e+02  1.000000e+00\n",
       "50%      1.400000e+01  3.100000e+01  9.343000e+03  3.990000e+02  1.000000e+00\n",
       "75%      2.300000e+01  4.700000e+01  1.568400e+04  9.990000e+02  1.000000e+00\n",
       "max      3.300000e+01  5.900000e+01  2.216900e+04  3.079800e+05  2.169000e+03"
      ]
     },
     "execution_count": 10,
     "metadata": {},
     "output_type": "execute_result"
    }
   ],
   "source": [
    "sales.describe()"
   ]
  },
  {
   "cell_type": "markdown",
   "metadata": {},
   "source": [
    "- Item Categories"
   ]
  },
  {
   "cell_type": "code",
   "execution_count": 11,
   "metadata": {},
   "outputs": [
    {
     "data": {
      "text/html": [
       "<div>\n",
       "<style scoped>\n",
       "    .dataframe tbody tr th:only-of-type {\n",
       "        vertical-align: middle;\n",
       "    }\n",
       "\n",
       "    .dataframe tbody tr th {\n",
       "        vertical-align: top;\n",
       "    }\n",
       "\n",
       "    .dataframe thead th {\n",
       "        text-align: right;\n",
       "    }\n",
       "</style>\n",
       "<table border=\"1\" class=\"dataframe\">\n",
       "  <thead>\n",
       "    <tr style=\"text-align: right;\">\n",
       "      <th></th>\n",
       "      <th>item_category_name</th>\n",
       "      <th>item_category_id</th>\n",
       "    </tr>\n",
       "  </thead>\n",
       "  <tbody>\n",
       "    <tr>\n",
       "      <th>0</th>\n",
       "      <td>PC - Гарнитуры/Наушники</td>\n",
       "      <td>0</td>\n",
       "    </tr>\n",
       "    <tr>\n",
       "      <th>1</th>\n",
       "      <td>Аксессуары - PS2</td>\n",
       "      <td>1</td>\n",
       "    </tr>\n",
       "    <tr>\n",
       "      <th>2</th>\n",
       "      <td>Аксессуары - PS3</td>\n",
       "      <td>2</td>\n",
       "    </tr>\n",
       "    <tr>\n",
       "      <th>3</th>\n",
       "      <td>Аксессуары - PS4</td>\n",
       "      <td>3</td>\n",
       "    </tr>\n",
       "    <tr>\n",
       "      <th>4</th>\n",
       "      <td>Аксессуары - PSP</td>\n",
       "      <td>4</td>\n",
       "    </tr>\n",
       "  </tbody>\n",
       "</table>\n",
       "</div>"
      ],
      "text/plain": [
       "        item_category_name  item_category_id\n",
       "0  PC - Гарнитуры/Наушники                 0\n",
       "1         Аксессуары - PS2                 1\n",
       "2         Аксессуары - PS3                 2\n",
       "3         Аксессуары - PS4                 3\n",
       "4         Аксессуары - PSP                 4"
      ]
     },
     "execution_count": 11,
     "metadata": {},
     "output_type": "execute_result"
    }
   ],
   "source": [
    "item_cat.head()"
   ]
  },
  {
   "cell_type": "code",
   "execution_count": 12,
   "metadata": {},
   "outputs": [
    {
     "name": "stdout",
     "output_type": "stream",
     "text": [
      "<class 'pandas.core.frame.DataFrame'>\n",
      "RangeIndex: 84 entries, 0 to 83\n",
      "Data columns (total 2 columns):\n",
      " #   Column              Non-Null Count  Dtype \n",
      "---  ------              --------------  ----- \n",
      " 0   item_category_name  84 non-null     object\n",
      " 1   item_category_id    84 non-null     int64 \n",
      "dtypes: int64(1), object(1)\n",
      "memory usage: 1.4+ KB\n"
     ]
    }
   ],
   "source": [
    "item_cat.info()"
   ]
  },
  {
   "cell_type": "code",
   "execution_count": 13,
   "metadata": {},
   "outputs": [
    {
     "data": {
      "text/plain": [
       "item_category_name    0\n",
       "item_category_id      0\n",
       "dtype: int64"
      ]
     },
     "execution_count": 13,
     "metadata": {},
     "output_type": "execute_result"
    }
   ],
   "source": [
    "item_cat.isnull().sum()"
   ]
  },
  {
   "cell_type": "code",
   "execution_count": 14,
   "metadata": {},
   "outputs": [
    {
     "data": {
      "text/plain": [
       "item_category_name    0\n",
       "item_category_id      0\n",
       "dtype: int64"
      ]
     },
     "execution_count": 14,
     "metadata": {},
     "output_type": "execute_result"
    }
   ],
   "source": [
    "item_cat.isna().sum()"
   ]
  },
  {
   "cell_type": "markdown",
   "metadata": {},
   "source": [
    "- Items"
   ]
  },
  {
   "cell_type": "code",
   "execution_count": 15,
   "metadata": {},
   "outputs": [
    {
     "data": {
      "text/html": [
       "<div>\n",
       "<style scoped>\n",
       "    .dataframe tbody tr th:only-of-type {\n",
       "        vertical-align: middle;\n",
       "    }\n",
       "\n",
       "    .dataframe tbody tr th {\n",
       "        vertical-align: top;\n",
       "    }\n",
       "\n",
       "    .dataframe thead th {\n",
       "        text-align: right;\n",
       "    }\n",
       "</style>\n",
       "<table border=\"1\" class=\"dataframe\">\n",
       "  <thead>\n",
       "    <tr style=\"text-align: right;\">\n",
       "      <th></th>\n",
       "      <th>item_name</th>\n",
       "      <th>item_id</th>\n",
       "      <th>item_category_id</th>\n",
       "    </tr>\n",
       "  </thead>\n",
       "  <tbody>\n",
       "    <tr>\n",
       "      <th>0</th>\n",
       "      <td>! ВО ВЛАСТИ НАВАЖДЕНИЯ (ПЛАСТ.)         D</td>\n",
       "      <td>0</td>\n",
       "      <td>40</td>\n",
       "    </tr>\n",
       "    <tr>\n",
       "      <th>1</th>\n",
       "      <td>!ABBYY FineReader 12 Professional Edition Full...</td>\n",
       "      <td>1</td>\n",
       "      <td>76</td>\n",
       "    </tr>\n",
       "    <tr>\n",
       "      <th>2</th>\n",
       "      <td>***В ЛУЧАХ СЛАВЫ   (UNV)                    D</td>\n",
       "      <td>2</td>\n",
       "      <td>40</td>\n",
       "    </tr>\n",
       "    <tr>\n",
       "      <th>3</th>\n",
       "      <td>***ГОЛУБАЯ ВОЛНА  (Univ)                      D</td>\n",
       "      <td>3</td>\n",
       "      <td>40</td>\n",
       "    </tr>\n",
       "    <tr>\n",
       "      <th>4</th>\n",
       "      <td>***КОРОБКА (СТЕКЛО)                       D</td>\n",
       "      <td>4</td>\n",
       "      <td>40</td>\n",
       "    </tr>\n",
       "  </tbody>\n",
       "</table>\n",
       "</div>"
      ],
      "text/plain": [
       "                                           item_name  item_id  \\\n",
       "0          ! ВО ВЛАСТИ НАВАЖДЕНИЯ (ПЛАСТ.)         D        0   \n",
       "1  !ABBYY FineReader 12 Professional Edition Full...        1   \n",
       "2      ***В ЛУЧАХ СЛАВЫ   (UNV)                    D        2   \n",
       "3    ***ГОЛУБАЯ ВОЛНА  (Univ)                      D        3   \n",
       "4        ***КОРОБКА (СТЕКЛО)                       D        4   \n",
       "\n",
       "   item_category_id  \n",
       "0                40  \n",
       "1                76  \n",
       "2                40  \n",
       "3                40  \n",
       "4                40  "
      ]
     },
     "execution_count": 15,
     "metadata": {},
     "output_type": "execute_result"
    }
   ],
   "source": [
    "items.head()"
   ]
  },
  {
   "cell_type": "code",
   "execution_count": 16,
   "metadata": {},
   "outputs": [
    {
     "name": "stdout",
     "output_type": "stream",
     "text": [
      "<class 'pandas.core.frame.DataFrame'>\n",
      "RangeIndex: 22170 entries, 0 to 22169\n",
      "Data columns (total 3 columns):\n",
      " #   Column            Non-Null Count  Dtype \n",
      "---  ------            --------------  ----- \n",
      " 0   item_name         22170 non-null  object\n",
      " 1   item_id           22170 non-null  int64 \n",
      " 2   item_category_id  22170 non-null  int64 \n",
      "dtypes: int64(2), object(1)\n",
      "memory usage: 519.7+ KB\n"
     ]
    }
   ],
   "source": [
    "items.info()"
   ]
  },
  {
   "cell_type": "code",
   "execution_count": 17,
   "metadata": {},
   "outputs": [
    {
     "data": {
      "text/plain": [
       "item_name           0\n",
       "item_id             0\n",
       "item_category_id    0\n",
       "dtype: int64"
      ]
     },
     "execution_count": 17,
     "metadata": {},
     "output_type": "execute_result"
    }
   ],
   "source": [
    "items.isna().sum()"
   ]
  },
  {
   "cell_type": "code",
   "execution_count": 18,
   "metadata": {},
   "outputs": [
    {
     "data": {
      "text/plain": [
       "item_name           0\n",
       "item_id             0\n",
       "item_category_id    0\n",
       "dtype: int64"
      ]
     },
     "execution_count": 18,
     "metadata": {},
     "output_type": "execute_result"
    }
   ],
   "source": [
    "items.isnull().sum()"
   ]
  },
  {
   "cell_type": "code",
   "execution_count": 19,
   "metadata": {},
   "outputs": [
    {
     "data": {
      "text/html": [
       "<div>\n",
       "<style scoped>\n",
       "    .dataframe tbody tr th:only-of-type {\n",
       "        vertical-align: middle;\n",
       "    }\n",
       "\n",
       "    .dataframe tbody tr th {\n",
       "        vertical-align: top;\n",
       "    }\n",
       "\n",
       "    .dataframe thead th {\n",
       "        text-align: right;\n",
       "    }\n",
       "</style>\n",
       "<table border=\"1\" class=\"dataframe\">\n",
       "  <thead>\n",
       "    <tr style=\"text-align: right;\">\n",
       "      <th></th>\n",
       "      <th>item_id</th>\n",
       "      <th>item_category_id</th>\n",
       "    </tr>\n",
       "  </thead>\n",
       "  <tbody>\n",
       "    <tr>\n",
       "      <th>count</th>\n",
       "      <td>22170.00000</td>\n",
       "      <td>22170.000000</td>\n",
       "    </tr>\n",
       "    <tr>\n",
       "      <th>mean</th>\n",
       "      <td>11084.50000</td>\n",
       "      <td>46.290753</td>\n",
       "    </tr>\n",
       "    <tr>\n",
       "      <th>std</th>\n",
       "      <td>6400.07207</td>\n",
       "      <td>15.941486</td>\n",
       "    </tr>\n",
       "    <tr>\n",
       "      <th>min</th>\n",
       "      <td>0.00000</td>\n",
       "      <td>0.000000</td>\n",
       "    </tr>\n",
       "    <tr>\n",
       "      <th>25%</th>\n",
       "      <td>5542.25000</td>\n",
       "      <td>37.000000</td>\n",
       "    </tr>\n",
       "    <tr>\n",
       "      <th>50%</th>\n",
       "      <td>11084.50000</td>\n",
       "      <td>40.000000</td>\n",
       "    </tr>\n",
       "    <tr>\n",
       "      <th>75%</th>\n",
       "      <td>16626.75000</td>\n",
       "      <td>58.000000</td>\n",
       "    </tr>\n",
       "    <tr>\n",
       "      <th>max</th>\n",
       "      <td>22169.00000</td>\n",
       "      <td>83.000000</td>\n",
       "    </tr>\n",
       "  </tbody>\n",
       "</table>\n",
       "</div>"
      ],
      "text/plain": [
       "           item_id  item_category_id\n",
       "count  22170.00000      22170.000000\n",
       "mean   11084.50000         46.290753\n",
       "std     6400.07207         15.941486\n",
       "min        0.00000          0.000000\n",
       "25%     5542.25000         37.000000\n",
       "50%    11084.50000         40.000000\n",
       "75%    16626.75000         58.000000\n",
       "max    22169.00000         83.000000"
      ]
     },
     "execution_count": 19,
     "metadata": {},
     "output_type": "execute_result"
    }
   ],
   "source": [
    "items.describe()"
   ]
  },
  {
   "cell_type": "markdown",
   "metadata": {},
   "source": [
    "- Shops"
   ]
  },
  {
   "cell_type": "code",
   "execution_count": 20,
   "metadata": {},
   "outputs": [
    {
     "data": {
      "text/html": [
       "<div>\n",
       "<style scoped>\n",
       "    .dataframe tbody tr th:only-of-type {\n",
       "        vertical-align: middle;\n",
       "    }\n",
       "\n",
       "    .dataframe tbody tr th {\n",
       "        vertical-align: top;\n",
       "    }\n",
       "\n",
       "    .dataframe thead th {\n",
       "        text-align: right;\n",
       "    }\n",
       "</style>\n",
       "<table border=\"1\" class=\"dataframe\">\n",
       "  <thead>\n",
       "    <tr style=\"text-align: right;\">\n",
       "      <th></th>\n",
       "      <th>shop_name</th>\n",
       "      <th>shop_id</th>\n",
       "    </tr>\n",
       "  </thead>\n",
       "  <tbody>\n",
       "    <tr>\n",
       "      <th>0</th>\n",
       "      <td>!Якутск Орджоникидзе, 56 фран</td>\n",
       "      <td>0</td>\n",
       "    </tr>\n",
       "    <tr>\n",
       "      <th>1</th>\n",
       "      <td>!Якутск ТЦ \"Центральный\" фран</td>\n",
       "      <td>1</td>\n",
       "    </tr>\n",
       "    <tr>\n",
       "      <th>2</th>\n",
       "      <td>Адыгея ТЦ \"Мега\"</td>\n",
       "      <td>2</td>\n",
       "    </tr>\n",
       "    <tr>\n",
       "      <th>3</th>\n",
       "      <td>Балашиха ТРК \"Октябрь-Киномир\"</td>\n",
       "      <td>3</td>\n",
       "    </tr>\n",
       "    <tr>\n",
       "      <th>4</th>\n",
       "      <td>Волжский ТЦ \"Волга Молл\"</td>\n",
       "      <td>4</td>\n",
       "    </tr>\n",
       "  </tbody>\n",
       "</table>\n",
       "</div>"
      ],
      "text/plain": [
       "                        shop_name  shop_id\n",
       "0   !Якутск Орджоникидзе, 56 фран        0\n",
       "1   !Якутск ТЦ \"Центральный\" фран        1\n",
       "2                Адыгея ТЦ \"Мега\"        2\n",
       "3  Балашиха ТРК \"Октябрь-Киномир\"        3\n",
       "4        Волжский ТЦ \"Волга Молл\"        4"
      ]
     },
     "execution_count": 20,
     "metadata": {},
     "output_type": "execute_result"
    }
   ],
   "source": [
    "shops.head()"
   ]
  },
  {
   "cell_type": "code",
   "execution_count": 21,
   "metadata": {},
   "outputs": [
    {
     "name": "stdout",
     "output_type": "stream",
     "text": [
      "<class 'pandas.core.frame.DataFrame'>\n",
      "RangeIndex: 60 entries, 0 to 59\n",
      "Data columns (total 2 columns):\n",
      " #   Column     Non-Null Count  Dtype \n",
      "---  ------     --------------  ----- \n",
      " 0   shop_name  60 non-null     object\n",
      " 1   shop_id    60 non-null     int64 \n",
      "dtypes: int64(1), object(1)\n",
      "memory usage: 1.1+ KB\n"
     ]
    }
   ],
   "source": [
    "shops.info()"
   ]
  },
  {
   "cell_type": "code",
   "execution_count": 22,
   "metadata": {},
   "outputs": [
    {
     "data": {
      "text/plain": [
       "shop_name    0\n",
       "shop_id      0\n",
       "dtype: int64"
      ]
     },
     "execution_count": 22,
     "metadata": {},
     "output_type": "execute_result"
    }
   ],
   "source": [
    "shops.isna().sum()"
   ]
  },
  {
   "cell_type": "code",
   "execution_count": 23,
   "metadata": {},
   "outputs": [
    {
     "data": {
      "text/plain": [
       "shop_name    0\n",
       "shop_id      0\n",
       "dtype: int64"
      ]
     },
     "execution_count": 23,
     "metadata": {},
     "output_type": "execute_result"
    }
   ],
   "source": [
    "shops.isnull().sum()"
   ]
  },
  {
   "cell_type": "markdown",
   "metadata": {},
   "source": [
    "In sales data the column data is of object type, we need to convert it into datetime first."
   ]
  },
  {
   "cell_type": "code",
   "execution_count": 24,
   "metadata": {},
   "outputs": [],
   "source": [
    "import datetime"
   ]
  },
  {
   "cell_type": "code",
   "execution_count": 25,
   "metadata": {},
   "outputs": [],
   "source": [
    "sales.date=sales.date.apply(lambda x:datetime.datetime.strptime(x, '%d.%m.%Y'))"
   ]
  },
  {
   "cell_type": "code",
   "execution_count": 26,
   "metadata": {},
   "outputs": [
    {
     "name": "stdout",
     "output_type": "stream",
     "text": [
      "<class 'pandas.core.frame.DataFrame'>\n",
      "RangeIndex: 2935849 entries, 0 to 2935848\n",
      "Data columns (total 6 columns):\n",
      " #   Column          Dtype         \n",
      "---  ------          -----         \n",
      " 0   date            datetime64[ns]\n",
      " 1   date_block_num  int64         \n",
      " 2   shop_id         int64         \n",
      " 3   item_id         int64         \n",
      " 4   item_price      float64       \n",
      " 5   item_cnt_day    float64       \n",
      "dtypes: datetime64[ns](1), float64(2), int64(3)\n",
      "memory usage: 134.4 MB\n"
     ]
    }
   ],
   "source": [
    "sales.info()"
   ]
  },
  {
   "cell_type": "code",
   "execution_count": 27,
   "metadata": {},
   "outputs": [
    {
     "data": {
      "text/html": [
       "<div>\n",
       "<style scoped>\n",
       "    .dataframe tbody tr th:only-of-type {\n",
       "        vertical-align: middle;\n",
       "    }\n",
       "\n",
       "    .dataframe tbody tr th {\n",
       "        vertical-align: top;\n",
       "    }\n",
       "\n",
       "    .dataframe thead th {\n",
       "        text-align: right;\n",
       "    }\n",
       "</style>\n",
       "<table border=\"1\" class=\"dataframe\">\n",
       "  <thead>\n",
       "    <tr style=\"text-align: right;\">\n",
       "      <th></th>\n",
       "      <th>date</th>\n",
       "      <th>date_block_num</th>\n",
       "      <th>shop_id</th>\n",
       "      <th>item_id</th>\n",
       "      <th>item_price</th>\n",
       "      <th>item_cnt_day</th>\n",
       "    </tr>\n",
       "  </thead>\n",
       "  <tbody>\n",
       "    <tr>\n",
       "      <th>0</th>\n",
       "      <td>2013-01-02</td>\n",
       "      <td>0</td>\n",
       "      <td>59</td>\n",
       "      <td>22154</td>\n",
       "      <td>999.00</td>\n",
       "      <td>1.0</td>\n",
       "    </tr>\n",
       "    <tr>\n",
       "      <th>1</th>\n",
       "      <td>2013-01-03</td>\n",
       "      <td>0</td>\n",
       "      <td>25</td>\n",
       "      <td>2552</td>\n",
       "      <td>899.00</td>\n",
       "      <td>1.0</td>\n",
       "    </tr>\n",
       "    <tr>\n",
       "      <th>2</th>\n",
       "      <td>2013-01-05</td>\n",
       "      <td>0</td>\n",
       "      <td>25</td>\n",
       "      <td>2552</td>\n",
       "      <td>899.00</td>\n",
       "      <td>-1.0</td>\n",
       "    </tr>\n",
       "    <tr>\n",
       "      <th>3</th>\n",
       "      <td>2013-01-06</td>\n",
       "      <td>0</td>\n",
       "      <td>25</td>\n",
       "      <td>2554</td>\n",
       "      <td>1709.05</td>\n",
       "      <td>1.0</td>\n",
       "    </tr>\n",
       "    <tr>\n",
       "      <th>4</th>\n",
       "      <td>2013-01-15</td>\n",
       "      <td>0</td>\n",
       "      <td>25</td>\n",
       "      <td>2555</td>\n",
       "      <td>1099.00</td>\n",
       "      <td>1.0</td>\n",
       "    </tr>\n",
       "    <tr>\n",
       "      <th>...</th>\n",
       "      <td>...</td>\n",
       "      <td>...</td>\n",
       "      <td>...</td>\n",
       "      <td>...</td>\n",
       "      <td>...</td>\n",
       "      <td>...</td>\n",
       "    </tr>\n",
       "    <tr>\n",
       "      <th>2935844</th>\n",
       "      <td>2015-10-10</td>\n",
       "      <td>33</td>\n",
       "      <td>25</td>\n",
       "      <td>7409</td>\n",
       "      <td>299.00</td>\n",
       "      <td>1.0</td>\n",
       "    </tr>\n",
       "    <tr>\n",
       "      <th>2935845</th>\n",
       "      <td>2015-10-09</td>\n",
       "      <td>33</td>\n",
       "      <td>25</td>\n",
       "      <td>7460</td>\n",
       "      <td>299.00</td>\n",
       "      <td>1.0</td>\n",
       "    </tr>\n",
       "    <tr>\n",
       "      <th>2935846</th>\n",
       "      <td>2015-10-14</td>\n",
       "      <td>33</td>\n",
       "      <td>25</td>\n",
       "      <td>7459</td>\n",
       "      <td>349.00</td>\n",
       "      <td>1.0</td>\n",
       "    </tr>\n",
       "    <tr>\n",
       "      <th>2935847</th>\n",
       "      <td>2015-10-22</td>\n",
       "      <td>33</td>\n",
       "      <td>25</td>\n",
       "      <td>7440</td>\n",
       "      <td>299.00</td>\n",
       "      <td>1.0</td>\n",
       "    </tr>\n",
       "    <tr>\n",
       "      <th>2935848</th>\n",
       "      <td>2015-10-03</td>\n",
       "      <td>33</td>\n",
       "      <td>25</td>\n",
       "      <td>7460</td>\n",
       "      <td>299.00</td>\n",
       "      <td>1.0</td>\n",
       "    </tr>\n",
       "  </tbody>\n",
       "</table>\n",
       "<p>2935849 rows × 6 columns</p>\n",
       "</div>"
      ],
      "text/plain": [
       "              date  date_block_num  shop_id  item_id  item_price  item_cnt_day\n",
       "0       2013-01-02               0       59    22154      999.00           1.0\n",
       "1       2013-01-03               0       25     2552      899.00           1.0\n",
       "2       2013-01-05               0       25     2552      899.00          -1.0\n",
       "3       2013-01-06               0       25     2554     1709.05           1.0\n",
       "4       2013-01-15               0       25     2555     1099.00           1.0\n",
       "...            ...             ...      ...      ...         ...           ...\n",
       "2935844 2015-10-10              33       25     7409      299.00           1.0\n",
       "2935845 2015-10-09              33       25     7460      299.00           1.0\n",
       "2935846 2015-10-14              33       25     7459      349.00           1.0\n",
       "2935847 2015-10-22              33       25     7440      299.00           1.0\n",
       "2935848 2015-10-03              33       25     7460      299.00           1.0\n",
       "\n",
       "[2935849 rows x 6 columns]"
      ]
     },
     "execution_count": 27,
     "metadata": {},
     "output_type": "execute_result"
    }
   ],
   "source": [
    "sales"
   ]
  },
  {
   "cell_type": "markdown",
   "metadata": {},
   "source": [
    "Let's now aggregate to monthly level the required metrics"
   ]
  },
  {
   "cell_type": "code",
   "execution_count": 28,
   "metadata": {},
   "outputs": [
    {
     "name": "stderr",
     "output_type": "stream",
     "text": [
      "C:\\Users\\samit\\anaconda3\\envs\\tf-gpu\\lib\\site-packages\\ipykernel_launcher.py:1: FutureWarning: Indexing with multiple keys (implicitly converted to a tuple of keys) will be deprecated, use a list instead.\n",
      "  \"\"\"Entry point for launching an IPython kernel.\n"
     ]
    }
   ],
   "source": [
    "monthly_sales = sales.groupby(['date_block_num','shop_id','item_id'])['date','item_price','item_cnt_day'].agg({'date':['min','max'],'item_price':'mean','item_cnt_day':'sum'})"
   ]
  },
  {
   "cell_type": "code",
   "execution_count": 29,
   "metadata": {
    "scrolled": true
   },
   "outputs": [
    {
     "data": {
      "text/html": [
       "<div>\n",
       "<style scoped>\n",
       "    .dataframe tbody tr th:only-of-type {\n",
       "        vertical-align: middle;\n",
       "    }\n",
       "\n",
       "    .dataframe tbody tr th {\n",
       "        vertical-align: top;\n",
       "    }\n",
       "\n",
       "    .dataframe thead tr th {\n",
       "        text-align: left;\n",
       "    }\n",
       "\n",
       "    .dataframe thead tr:last-of-type th {\n",
       "        text-align: right;\n",
       "    }\n",
       "</style>\n",
       "<table border=\"1\" class=\"dataframe\">\n",
       "  <thead>\n",
       "    <tr>\n",
       "      <th></th>\n",
       "      <th></th>\n",
       "      <th></th>\n",
       "      <th colspan=\"2\" halign=\"left\">date</th>\n",
       "      <th>item_price</th>\n",
       "      <th>item_cnt_day</th>\n",
       "    </tr>\n",
       "    <tr>\n",
       "      <th></th>\n",
       "      <th></th>\n",
       "      <th></th>\n",
       "      <th>min</th>\n",
       "      <th>max</th>\n",
       "      <th>mean</th>\n",
       "      <th>sum</th>\n",
       "    </tr>\n",
       "    <tr>\n",
       "      <th>date_block_num</th>\n",
       "      <th>shop_id</th>\n",
       "      <th>item_id</th>\n",
       "      <th></th>\n",
       "      <th></th>\n",
       "      <th></th>\n",
       "      <th></th>\n",
       "    </tr>\n",
       "  </thead>\n",
       "  <tbody>\n",
       "    <tr>\n",
       "      <th rowspan=\"5\" valign=\"top\">0</th>\n",
       "      <th rowspan=\"5\" valign=\"top\">0</th>\n",
       "      <th>32</th>\n",
       "      <td>2013-01-03</td>\n",
       "      <td>2013-01-31</td>\n",
       "      <td>221.0</td>\n",
       "      <td>6.0</td>\n",
       "    </tr>\n",
       "    <tr>\n",
       "      <th>33</th>\n",
       "      <td>2013-01-03</td>\n",
       "      <td>2013-01-28</td>\n",
       "      <td>347.0</td>\n",
       "      <td>3.0</td>\n",
       "    </tr>\n",
       "    <tr>\n",
       "      <th>35</th>\n",
       "      <td>2013-01-31</td>\n",
       "      <td>2013-01-31</td>\n",
       "      <td>247.0</td>\n",
       "      <td>1.0</td>\n",
       "    </tr>\n",
       "    <tr>\n",
       "      <th>43</th>\n",
       "      <td>2013-01-31</td>\n",
       "      <td>2013-01-31</td>\n",
       "      <td>221.0</td>\n",
       "      <td>1.0</td>\n",
       "    </tr>\n",
       "    <tr>\n",
       "      <th>51</th>\n",
       "      <td>2013-01-13</td>\n",
       "      <td>2013-01-31</td>\n",
       "      <td>128.5</td>\n",
       "      <td>2.0</td>\n",
       "    </tr>\n",
       "    <tr>\n",
       "      <th>...</th>\n",
       "      <th>...</th>\n",
       "      <th>...</th>\n",
       "      <td>...</td>\n",
       "      <td>...</td>\n",
       "      <td>...</td>\n",
       "      <td>...</td>\n",
       "    </tr>\n",
       "    <tr>\n",
       "      <th rowspan=\"5\" valign=\"top\">33</th>\n",
       "      <th rowspan=\"5\" valign=\"top\">59</th>\n",
       "      <th>22087</th>\n",
       "      <td>2015-10-05</td>\n",
       "      <td>2015-10-23</td>\n",
       "      <td>119.0</td>\n",
       "      <td>6.0</td>\n",
       "    </tr>\n",
       "    <tr>\n",
       "      <th>22088</th>\n",
       "      <td>2015-10-03</td>\n",
       "      <td>2015-10-27</td>\n",
       "      <td>119.0</td>\n",
       "      <td>2.0</td>\n",
       "    </tr>\n",
       "    <tr>\n",
       "      <th>22091</th>\n",
       "      <td>2015-10-03</td>\n",
       "      <td>2015-10-03</td>\n",
       "      <td>179.0</td>\n",
       "      <td>1.0</td>\n",
       "    </tr>\n",
       "    <tr>\n",
       "      <th>22100</th>\n",
       "      <td>2015-10-18</td>\n",
       "      <td>2015-10-18</td>\n",
       "      <td>629.0</td>\n",
       "      <td>1.0</td>\n",
       "    </tr>\n",
       "    <tr>\n",
       "      <th>22102</th>\n",
       "      <td>2015-10-16</td>\n",
       "      <td>2015-10-16</td>\n",
       "      <td>1250.0</td>\n",
       "      <td>1.0</td>\n",
       "    </tr>\n",
       "  </tbody>\n",
       "</table>\n",
       "<p>1609124 rows × 4 columns</p>\n",
       "</div>"
      ],
      "text/plain": [
       "                                     date            item_price item_cnt_day\n",
       "                                      min        max       mean          sum\n",
       "date_block_num shop_id item_id                                              \n",
       "0              0       32      2013-01-03 2013-01-31      221.0          6.0\n",
       "                       33      2013-01-03 2013-01-28      347.0          3.0\n",
       "                       35      2013-01-31 2013-01-31      247.0          1.0\n",
       "                       43      2013-01-31 2013-01-31      221.0          1.0\n",
       "                       51      2013-01-13 2013-01-31      128.5          2.0\n",
       "...                                   ...        ...        ...          ...\n",
       "33             59      22087   2015-10-05 2015-10-23      119.0          6.0\n",
       "                       22088   2015-10-03 2015-10-27      119.0          2.0\n",
       "                       22091   2015-10-03 2015-10-03      179.0          1.0\n",
       "                       22100   2015-10-18 2015-10-18      629.0          1.0\n",
       "                       22102   2015-10-16 2015-10-16     1250.0          1.0\n",
       "\n",
       "[1609124 rows x 4 columns]"
      ]
     },
     "execution_count": 29,
     "metadata": {},
     "output_type": "execute_result"
    }
   ],
   "source": [
    "monthly_sales"
   ]
  },
  {
   "cell_type": "markdown",
   "metadata": {},
   "source": [
    "First predicting the monthly sales."
   ]
  },
  {
   "cell_type": "code",
   "execution_count": 30,
   "metadata": {},
   "outputs": [],
   "source": [
    "ts = sales.groupby(['date_block_num'])['item_cnt_day'].sum()"
   ]
  },
  {
   "cell_type": "code",
   "execution_count": 31,
   "metadata": {},
   "outputs": [
    {
     "data": {
      "text/plain": [
       "date_block_num\n",
       "0     131479.0\n",
       "1     128090.0\n",
       "2     147142.0\n",
       "3     107190.0\n",
       "4     106970.0\n",
       "5     125381.0\n",
       "6     116966.0\n",
       "7     125291.0\n",
       "8     133332.0\n",
       "9     127541.0\n",
       "10    130009.0\n",
       "11    183342.0\n",
       "12    116899.0\n",
       "13    109687.0\n",
       "14    115297.0\n",
       "15     96556.0\n",
       "16     97790.0\n",
       "17     97429.0\n",
       "18     91280.0\n",
       "19    102721.0\n",
       "20     99208.0\n",
       "21    107422.0\n",
       "22    117845.0\n",
       "23    168755.0\n",
       "24    110971.0\n",
       "25     84198.0\n",
       "26     82014.0\n",
       "27     77827.0\n",
       "28     72295.0\n",
       "29     64114.0\n",
       "30     63187.0\n",
       "31     66079.0\n",
       "32     72843.0\n",
       "33     71056.0\n",
       "Name: item_cnt_day, dtype: float64"
      ]
     },
     "execution_count": 31,
     "metadata": {},
     "output_type": "execute_result"
    }
   ],
   "source": [
    "ts"
   ]
  },
  {
   "cell_type": "code",
   "execution_count": 32,
   "metadata": {},
   "outputs": [
    {
     "data": {
      "image/png": "[encoded data removed]",
      "text/plain": [
       "<Figure size 432x288 with 1 Axes>"
      ]
     },
     "metadata": {
      "needs_background": "light"
     },
     "output_type": "display_data"
    }
   ],
   "source": [
    "plt.title('sales of the company')\n",
    "plt.xlabel('Time')\n",
    "plt.ylabel('Sales')\n",
    "plt.plot(ts)\n",
    "plt.show()"
   ]
  },
  {
   "cell_type": "markdown",
   "metadata": {},
   "source": [
    "We can clearly see that there is an obvious seasonality and  decreasing trend in our data"
   ]
  },
  {
   "cell_type": "markdown",
   "metadata": {},
   "source": [
    "The sales seem to rise around the end of the year which makes sense because it is the holiday period."
   ]
  },
  {
   "cell_type": "code",
   "execution_count": 33,
   "metadata": {},
   "outputs": [],
   "source": [
    "trend = ts.rolling(window= 12).mean()"
   ]
  },
  {
   "cell_type": "code",
   "execution_count": 34,
   "metadata": {},
   "outputs": [],
   "source": [
    "seasonality = ts.rolling(window = 12).std()"
   ]
  },
  {
   "cell_type": "code",
   "execution_count": 35,
   "metadata": {},
   "outputs": [
    {
     "data": {
      "image/png": "[encoded data removed]",
      "text/plain": [
       "<Figure size 432x288 with 1 Axes>"
      ]
     },
     "metadata": {
      "needs_background": "light"
     },
     "output_type": "display_data"
    }
   ],
   "source": [
    "plt.plot(trend, label = 'trend')\n",
    "plt.plot(seasonality, label = 'seasonality')\n",
    "plt.legend()\n",
    "plt.show()"
   ]
  },
  {
   "cell_type": "markdown",
   "metadata": {},
   "source": [
    "Next checking decompositon into Trend, Seasonality and Residual."
   ]
  },
  {
   "cell_type": "code",
   "execution_count": 36,
   "metadata": {},
   "outputs": [],
   "source": [
    "import statsmodels.api as sm"
   ]
  },
  {
   "cell_type": "markdown",
   "metadata": {},
   "source": [
    "Additive model"
   ]
  },
  {
   "cell_type": "code",
   "execution_count": 37,
   "metadata": {},
   "outputs": [
    {
     "data": {
      "image/png": "[encoded data removed]",
      "text/plain": [
       "<Figure size 432x288 with 4 Axes>"
      ]
     },
     "metadata": {
      "needs_background": "light"
     },
     "output_type": "display_data"
    }
   ],
   "source": [
    "residual = sm.tsa.seasonal_decompose(ts.values,'additive',period=12)\n",
    "\n",
    "fig = residual.plot()"
   ]
  },
  {
   "cell_type": "markdown",
   "metadata": {},
   "source": [
    "Multiplicative model"
   ]
  },
  {
   "cell_type": "code",
   "execution_count": 38,
   "metadata": {},
   "outputs": [
    {
     "data": {
      "image/png": "[encoded data removed]",
      "text/plain": [
       "<Figure size 432x288 with 4 Axes>"
      ]
     },
     "metadata": {
      "needs_background": "light"
     },
     "output_type": "display_data"
    }
   ],
   "source": [
    "residual = sm.tsa.seasonal_decompose(ts.values,'multiplicative',period=12)\n",
    "\n",
    "fig = residual.plot()"
   ]
  },
  {
   "cell_type": "markdown",
   "metadata": {},
   "source": [
    "Performing Dicky-Fuller test for stationarity"
   ]
  },
  {
   "cell_type": "code",
   "execution_count": 39,
   "metadata": {},
   "outputs": [],
   "source": [
    "from statsmodels.tsa.stattools import adfuller"
   ]
  },
  {
   "cell_type": "code",
   "execution_count": 40,
   "metadata": {},
   "outputs": [
    {
     "name": "stdout",
     "output_type": "stream",
     "text": [
      "Results of Dickey-Fuller Test:\n",
      "Test Statistic                 -2.395704\n",
      "p-value                         0.142953\n",
      "#Lags Used                      0.000000\n",
      "Number of Observations Used    33.000000\n",
      "Critical Value (1%)            -3.646135\n",
      "Critical Value (5%)            -2.954127\n",
      "Critical Value (10%)           -2.615968\n",
      "dtype: float64\n"
     ]
    }
   ],
   "source": [
    "def test_stationarity(timeseries):\n",
    "    print('Results of Dickey-Fuller Test:')\n",
    "    dftest = adfuller(timeseries, autolag='AIC')\n",
    "    dfoutput = pd.Series(dftest[0:4], index=['Test Statistic','p-value','#Lags Used','Number of Observations Used'])\n",
    "    for key,value in dftest[4].items():\n",
    "        dfoutput['Critical Value (%s)'%key] = value\n",
    "    print (dfoutput)\n",
    "\n",
    "test_stationarity(ts)"
   ]
  },
  {
   "cell_type": "markdown",
   "metadata": {},
   "source": [
    "Now creating a function which will help us remove trend and seasonality by taking the difference."
   ]
  },
  {
   "cell_type": "code",
   "execution_count": 41,
   "metadata": {},
   "outputs": [],
   "source": [
    "from pandas import Series as Series\n",
    "\n",
    "def difference(dataset, interval=1):\n",
    "    diff = list()\n",
    "    for i in range(interval, len(dataset)):\n",
    "        value = dataset[i] - dataset[i - interval]\n",
    "        diff.append(value)\n",
    "    return Series(diff)"
   ]
  },
  {
   "cell_type": "markdown",
   "metadata": {},
   "source": [
    "A function to inverse the differenced value"
   ]
  },
  {
   "cell_type": "code",
   "execution_count": 42,
   "metadata": {},
   "outputs": [],
   "source": [
    "def inverse_difference(last_ob, value):\n",
    "    return value + last_ob"
   ]
  },
  {
   "cell_type": "markdown",
   "metadata": {},
   "source": [
    "Let's use our function to plot the de-trend and de-seasonalized version of our data."
   ]
  },
  {
   "cell_type": "code",
   "execution_count": 43,
   "metadata": {},
   "outputs": [
    {
     "data": {
      "image/png": "[encoded data removed]",
      "text/plain": [
       "<Figure size 432x288 with 1 Axes>"
      ]
     },
     "metadata": {
      "needs_background": "light"
     },
     "output_type": "display_data"
    },
    {
     "data": {
      "image/png": "[encoded data removed]",
      "text/plain": [
       "<Figure size 432x288 with 1 Axes>"
      ]
     },
     "metadata": {
      "needs_background": "light"
     },
     "output_type": "display_data"
    }
   ],
   "source": [
    "plt.title('de-trend')\n",
    "plt.xlabel('Time')\n",
    "plt.ylabel('Sales')\n",
    "new_ts = difference(ts)\n",
    "plt.plot(new_ts)\n",
    "plt.show()\n",
    "plt.title('de-seasonalized')\n",
    "plt.xlabel('Time')\n",
    "plt.ylabel('Sales')\n",
    "new_ts = difference(ts,12)\n",
    "plt.plot(new_ts)\n",
    "plt.show()"
   ]
  },
  {
   "cell_type": "code",
   "execution_count": 44,
   "metadata": {},
   "outputs": [
    {
     "name": "stdout",
     "output_type": "stream",
     "text": [
      "Results of Dickey-Fuller Test:\n",
      "Test Statistic                 -3.270101\n",
      "p-value                         0.016269\n",
      "#Lags Used                      0.000000\n",
      "Number of Observations Used    21.000000\n",
      "Critical Value (1%)            -3.788386\n",
      "Critical Value (5%)            -3.013098\n",
      "Critical Value (10%)           -2.646397\n",
      "dtype: float64\n"
     ]
    }
   ],
   "source": [
    "test_stationarity(new_ts)"
   ]
  },
  {
   "cell_type": "code",
   "execution_count": 45,
   "metadata": {},
   "outputs": [
    {
     "data": {
      "text/plain": [
       "0    -14580.0\n",
       "1    -18403.0\n",
       "2    -31845.0\n",
       "3    -10634.0\n",
       "4     -9180.0\n",
       "5    -27952.0\n",
       "6    -25686.0\n",
       "7    -22570.0\n",
       "8    -34124.0\n",
       "9    -20119.0\n",
       "10   -12164.0\n",
       "11   -14587.0\n",
       "12    -5928.0\n",
       "13   -25489.0\n",
       "14   -33283.0\n",
       "15   -18729.0\n",
       "16   -25495.0\n",
       "17   -33315.0\n",
       "18   -28093.0\n",
       "19   -36642.0\n",
       "20   -26365.0\n",
       "21   -36366.0\n",
       "dtype: float64"
      ]
     },
     "execution_count": 45,
     "metadata": {},
     "output_type": "execute_result"
    }
   ],
   "source": [
    "new_ts"
   ]
  },
  {
   "cell_type": "code",
   "execution_count": 46,
   "metadata": {},
   "outputs": [],
   "source": [
    "ts_train = new_ts[:-3]"
   ]
  },
  {
   "cell_type": "code",
   "execution_count": 47,
   "metadata": {},
   "outputs": [],
   "source": [
    "ts_test = new_ts[-3:]"
   ]
  },
  {
   "cell_type": "code",
   "execution_count": 48,
   "metadata": {},
   "outputs": [
    {
     "data": {
      "text/plain": [
       "0    -14580.0\n",
       "1    -18403.0\n",
       "2    -31845.0\n",
       "3    -10634.0\n",
       "4     -9180.0\n",
       "5    -27952.0\n",
       "6    -25686.0\n",
       "7    -22570.0\n",
       "8    -34124.0\n",
       "9    -20119.0\n",
       "10   -12164.0\n",
       "11   -14587.0\n",
       "12    -5928.0\n",
       "13   -25489.0\n",
       "14   -33283.0\n",
       "15   -18729.0\n",
       "16   -25495.0\n",
       "17   -33315.0\n",
       "18   -28093.0\n",
       "dtype: float64"
      ]
     },
     "execution_count": 48,
     "metadata": {},
     "output_type": "execute_result"
    }
   ],
   "source": [
    "ts_train"
   ]
  },
  {
   "cell_type": "code",
   "execution_count": 60,
   "metadata": {},
   "outputs": [
    {
     "data": {
      "text/plain": [
       "19   -36642.0\n",
       "20   -26365.0\n",
       "21   -36366.0\n",
       "dtype: float64"
      ]
     },
     "execution_count": 60,
     "metadata": {},
     "output_type": "execute_result"
    }
   ],
   "source": [
    "ts_test"
   ]
  },
  {
   "cell_type": "code",
   "execution_count": 50,
   "metadata": {},
   "outputs": [],
   "source": [
    "# split a univariate sequence into samples\n",
    "def split_sequence(sequence, n_steps):\n",
    "    X, y = list(), list()\n",
    "    for i in range(len(sequence)):\n",
    "        # find the end of this pattern\n",
    "        end_ix = i + n_steps\n",
    "        # check if we are beyond the sequence\n",
    "        if end_ix > len(sequence)-1:\n",
    "            break\n",
    "        # gather input and output parts of the pattern\n",
    "        seq_x, seq_y = sequence[i:end_ix], sequence[end_ix]\n",
    "        X.append(seq_x)\n",
    "        y.append(seq_y)\n",
    "    return np.array(X), np.array(y)"
   ]
  },
  {
   "cell_type": "code",
   "execution_count": 51,
   "metadata": {},
   "outputs": [],
   "source": [
    "x_train,y_train = split_sequence(ts_train, 3)"
   ]
  },
  {
   "cell_type": "code",
   "execution_count": 61,
   "metadata": {},
   "outputs": [],
   "source": [
    "x_test,y_test = split_sequence(ts_test,3)"
   ]
  },
  {
   "cell_type": "code",
   "execution_count": 53,
   "metadata": {},
   "outputs": [],
   "source": [
    "import tensorflow as tf"
   ]
  },
  {
   "cell_type": "code",
   "execution_count": 54,
   "metadata": {},
   "outputs": [],
   "source": [
    "model = tf.keras.models.Sequential()\n",
    "model.add(tf.keras.layers.LSTM(50, activation='relu', input_shape=(3, 1)))\n",
    "model.add(tf.keras.layers.Dense(1))\n",
    "model.compile(optimizer='adam', loss='mse')"
   ]
  },
  {
   "cell_type": "code",
   "execution_count": 55,
   "metadata": {},
   "outputs": [],
   "source": [
    "n_features = 1\n",
    "x_train = x_train.reshape((x_train.shape[0], x_train.shape[1], n_features))"
   ]
  },
  {
   "cell_type": "code",
   "execution_count": 56,
   "metadata": {},
   "outputs": [
    {
     "data": {
      "text/plain": [
       "(16, 3, 1)"
      ]
     },
     "execution_count": 56,
     "metadata": {},
     "output_type": "execute_result"
    }
   ],
   "source": [
    "x_train.shape"
   ]
  },
  {
   "cell_type": "code",
   "execution_count": 57,
   "metadata": {},
   "outputs": [
    {
     "name": "stdout",
     "output_type": "stream",
     "text": [
      "Train on 16 samples\n",
      "Epoch 1/200\n",
      "16/16 [==============================] - 1s 63ms/sample - loss: 585759552.0000\n",
      "Epoch 2/200\n",
      "16/16 [==============================] - 0s 372us/sample - loss: 582982400.0000\n",
      "Epoch 3/200\n",
      "16/16 [==============================] - 0s 310us/sample - loss: 578079360.0000\n",
      "Epoch 4/200\n",
      "16/16 [==============================] - 0s 374us/sample - loss: 574198912.0000\n",
      "Epoch 5/200\n",
      "16/16 [==============================] - 0s 308us/sample - loss: 570239424.0000\n",
      "Epoch 6/200\n",
      "16/16 [==============================] - 0s 375us/sample - loss: 565675392.0000\n",
      "Epoch 7/200\n",
      "16/16 [==============================] - 0s 310us/sample - loss: 559531264.0000\n",
      "Epoch 8/200\n",
      "16/16 [==============================] - 0s 310us/sample - loss: 555330432.0000\n",
      "Epoch 9/200\n",
      "16/16 [==============================] - 0s 374us/sample - loss: 548343744.0000\n",
      "Epoch 10/200\n",
      "16/16 [==============================] - 0s 371us/sample - loss: 544267328.0000\n",
      "Epoch 11/200\n",
      "16/16 [==============================] - 0s 438us/sample - loss: 538503296.0000\n",
      "Epoch 12/200\n",
      "16/16 [==============================] - 0s 372us/sample - loss: 534359264.0000\n",
      "Epoch 13/200\n",
      "16/16 [==============================] - 0s 313us/sample - loss: 528206272.0000\n",
      "Epoch 14/200\n",
      "16/16 [==============================] - 0s 372us/sample - loss: 520246240.0000\n",
      "Epoch 15/200\n",
      "16/16 [==============================] - 0s 312us/sample - loss: 514540672.0000\n",
      "Epoch 16/200\n",
      "16/16 [==============================] - 0s 312us/sample - loss: 509899264.0000\n",
      "Epoch 17/200\n",
      "16/16 [==============================] - 0s 309us/sample - loss: 505661504.0000\n",
      "Epoch 18/200\n",
      "16/16 [==============================] - 0s 312us/sample - loss: 501364544.0000\n",
      "Epoch 19/200\n",
      "16/16 [==============================] - 0s 374us/sample - loss: 492458496.0000\n",
      "Epoch 20/200\n",
      "16/16 [==============================] - 0s 310us/sample - loss: 488010112.0000\n",
      "Epoch 21/200\n",
      "16/16 [==============================] - 0s 314us/sample - loss: 483542624.0000\n",
      "Epoch 22/200\n",
      "16/16 [==============================] - 0s 372us/sample - loss: 479095360.0000\n",
      "Epoch 23/200\n",
      "16/16 [==============================] - 0s 312us/sample - loss: 474578048.0000\n",
      "Epoch 24/200\n",
      "16/16 [==============================] - 0s 372us/sample - loss: 469850208.0000\n",
      "Epoch 25/200\n",
      "16/16 [==============================] - 0s 376us/sample - loss: 465309760.0000\n",
      "Epoch 26/200\n",
      "16/16 [==============================] - 0s 374us/sample - loss: 460754144.0000\n",
      "Epoch 27/200\n",
      "16/16 [==============================] - 0s 312us/sample - loss: 455836992.0000\n",
      "Epoch 28/200\n",
      "16/16 [==============================] - 0s 435us/sample - loss: 451020448.0000\n",
      "Epoch 29/200\n",
      "16/16 [==============================] - 0s 375us/sample - loss: 446202560.0000\n",
      "Epoch 30/200\n",
      "16/16 [==============================] - 0s 310us/sample - loss: 437856448.0000\n",
      "Epoch 31/200\n",
      "16/16 [==============================] - 0s 310us/sample - loss: 432096832.0000\n",
      "Epoch 32/200\n",
      "16/16 [==============================] - 0s 314us/sample - loss: 424903424.0000\n",
      "Epoch 33/200\n",
      "16/16 [==============================] - 0s 310us/sample - loss: 410205248.0000\n",
      "Epoch 34/200\n",
      "16/16 [==============================] - 0s 372us/sample - loss: 395965248.0000\n",
      "Epoch 35/200\n",
      "16/16 [==============================] - 0s 251us/sample - loss: 381723552.0000\n",
      "Epoch 36/200\n",
      "16/16 [==============================] - 0s 372us/sample - loss: 375921088.0000\n",
      "Epoch 37/200\n",
      "16/16 [==============================] - 0s 314us/sample - loss: 370275232.0000\n",
      "Epoch 38/200\n",
      "16/16 [==============================] - 0s 311us/sample - loss: 363743232.0000\n",
      "Epoch 39/200\n",
      "16/16 [==============================] - 0s 372us/sample - loss: 353616448.0000\n",
      "Epoch 40/200\n",
      "16/16 [==============================] - 0s 312us/sample - loss: 347983168.0000\n",
      "Epoch 41/200\n",
      "16/16 [==============================] - 0s 312us/sample - loss: 328956064.0000\n",
      "Epoch 42/200\n",
      "16/16 [==============================] - 0s 373us/sample - loss: 317397888.0000\n",
      "Epoch 43/200\n",
      "16/16 [==============================] - 0s 310us/sample - loss: 309480512.0000\n",
      "Epoch 44/200\n",
      "16/16 [==============================] - 0s 310us/sample - loss: 296622720.0000\n",
      "Epoch 45/200\n",
      "16/16 [==============================] - 0s 312us/sample - loss: 289842464.0000\n",
      "Epoch 46/200\n",
      "16/16 [==============================] - 0s 312us/sample - loss: 280340128.0000\n",
      "Epoch 47/200\n",
      "16/16 [==============================] - 0s 312us/sample - loss: 273473216.0000\n",
      "Epoch 48/200\n",
      "16/16 [==============================] - 0s 374us/sample - loss: 265331104.0000\n",
      "Epoch 49/200\n",
      "16/16 [==============================] - 0s 311us/sample - loss: 257296768.0000\n",
      "Epoch 50/200\n",
      "16/16 [==============================] - 0s 373us/sample - loss: 246742688.0000\n",
      "Epoch 51/200\n",
      "16/16 [==============================] - 0s 309us/sample - loss: 235965056.0000\n",
      "Epoch 52/200\n",
      "16/16 [==============================] - 0s 312us/sample - loss: 228760160.0000\n",
      "Epoch 53/200\n",
      "16/16 [==============================] - 0s 310us/sample - loss: 222184496.0000\n",
      "Epoch 54/200\n",
      "16/16 [==============================] - 0s 312us/sample - loss: 212539456.0000\n",
      "Epoch 55/200\n",
      "16/16 [==============================] - 0s 248us/sample - loss: 202409456.0000\n",
      "Epoch 56/200\n",
      "16/16 [==============================] - 0s 310us/sample - loss: 183242128.0000\n",
      "Epoch 57/200\n",
      "16/16 [==============================] - 0s 312us/sample - loss: 171506208.0000\n",
      "Epoch 58/200\n",
      "16/16 [==============================] - 0s 376us/sample - loss: 166932784.0000\n",
      "Epoch 59/200\n",
      "16/16 [==============================] - 0s 435us/sample - loss: 161492640.0000\n",
      "Epoch 60/200\n",
      "16/16 [==============================] - 0s 309us/sample - loss: 154258704.0000\n",
      "Epoch 61/200\n",
      "16/16 [==============================] - 0s 374us/sample - loss: 136092960.0000\n",
      "Epoch 62/200\n",
      "16/16 [==============================] - 0s 374us/sample - loss: 127128472.0000\n",
      "Epoch 63/200\n",
      "16/16 [==============================] - 0s 312us/sample - loss: 124181984.0000\n",
      "Epoch 64/200\n",
      "16/16 [==============================] - 0s 309us/sample - loss: 121737744.0000\n",
      "Epoch 65/200\n",
      "16/16 [==============================] - 0s 309us/sample - loss: 120312768.0000\n",
      "Epoch 66/200\n",
      "16/16 [==============================] - 0s 312us/sample - loss: 117187064.0000\n",
      "Epoch 67/200\n",
      "16/16 [==============================] - 0s 312us/sample - loss: 114028104.0000\n",
      "Epoch 68/200\n",
      "16/16 [==============================] - 0s 309us/sample - loss: 111961136.0000\n",
      "Epoch 69/200\n",
      "16/16 [==============================] - 0s 310us/sample - loss: 109998184.0000\n",
      "Epoch 70/200\n",
      "16/16 [==============================] - 0s 312us/sample - loss: 108191472.0000\n",
      "Epoch 71/200\n",
      "16/16 [==============================] - 0s 310us/sample - loss: 106617776.0000\n",
      "Epoch 72/200\n",
      "16/16 [==============================] - 0s 311us/sample - loss: 106280600.0000\n",
      "Epoch 73/200\n",
      "16/16 [==============================] - 0s 310us/sample - loss: 103964112.0000\n",
      "Epoch 74/200\n",
      "16/16 [==============================] - 0s 313us/sample - loss: 102962272.0000\n",
      "Epoch 75/200\n",
      "16/16 [==============================] - 0s 374us/sample - loss: 100128968.0000\n",
      "Epoch 76/200\n",
      "16/16 [==============================] - 0s 310us/sample - loss: 99098352.0000\n",
      "Epoch 77/200\n",
      "16/16 [==============================] - 0s 376us/sample - loss: 99230912.0000\n",
      "Epoch 78/200\n",
      "16/16 [==============================] - 0s 275us/sample - loss: 98560096.0000\n",
      "Epoch 79/200\n",
      "16/16 [==============================] - 0s 376us/sample - loss: 97997648.0000\n",
      "Epoch 80/200\n",
      "16/16 [==============================] - 0s 372us/sample - loss: 97385368.0000\n",
      "Epoch 81/200\n",
      "16/16 [==============================] - 0s 357us/sample - loss: 97028704.0000\n",
      "Epoch 82/200\n",
      "16/16 [==============================] - 0s 310us/sample - loss: 96750912.0000\n",
      "Epoch 83/200\n",
      "16/16 [==============================] - 0s 310us/sample - loss: 98361776.0000\n",
      "Epoch 84/200\n",
      "16/16 [==============================] - 0s 312us/sample - loss: 98191424.0000\n",
      "Epoch 85/200\n",
      "16/16 [==============================] - 0s 374us/sample - loss: 98068992.0000\n",
      "Epoch 86/200\n",
      "16/16 [==============================] - 0s 374us/sample - loss: 97988816.0000\n",
      "Epoch 87/200\n",
      "16/16 [==============================] - 0s 312us/sample - loss: 97943216.0000\n",
      "Epoch 88/200\n",
      "16/16 [==============================] - 0s 312us/sample - loss: 97925056.0000\n",
      "Epoch 89/200\n",
      "16/16 [==============================] - 0s 374us/sample - loss: 96797016.0000\n"
     ]
    },
    {
     "name": "stdout",
     "output_type": "stream",
     "text": [
      "Epoch 90/200\n",
      "16/16 [==============================] - 0s 374us/sample - loss: 96718680.0000\n",
      "Epoch 91/200\n",
      "16/16 [==============================] - 0s 374us/sample - loss: 98142624.0000\n",
      "Epoch 92/200\n",
      "16/16 [==============================] - 0s 436us/sample - loss: 98167120.0000\n",
      "Epoch 93/200\n",
      "16/16 [==============================] - 0s 374us/sample - loss: 98197344.0000\n",
      "Epoch 94/200\n",
      "16/16 [==============================] - 0s 374us/sample - loss: 99735536.0000\n",
      "Epoch 95/200\n",
      "16/16 [==============================] - 0s 374us/sample - loss: 99758536.0000\n",
      "Epoch 96/200\n",
      "16/16 [==============================] - 0s 312us/sample - loss: 99780920.0000\n",
      "Epoch 97/200\n",
      "16/16 [==============================] - 0s 249us/sample - loss: 99800976.0000\n",
      "Epoch 98/200\n",
      "16/16 [==============================] - 0s 312us/sample - loss: 99817472.0000\n",
      "Epoch 99/200\n",
      "16/16 [==============================] - 0s 374us/sample - loss: 99829496.0000\n",
      "Epoch 100/200\n",
      "16/16 [==============================] - 0s 312us/sample - loss: 99836560.0000\n",
      "Epoch 101/200\n",
      "16/16 [==============================] - 0s 312us/sample - loss: 99838416.0000\n",
      "Epoch 102/200\n",
      "16/16 [==============================] - 0s 312us/sample - loss: 99835056.0000\n",
      "Epoch 103/200\n",
      "16/16 [==============================] - 0s 312us/sample - loss: 99826744.0000\n",
      "Epoch 104/200\n",
      "16/16 [==============================] - 0s 374us/sample - loss: 99813856.0000\n",
      "Epoch 105/200\n",
      "16/16 [==============================] - 0s 312us/sample - loss: 99796888.0000\n",
      "Epoch 106/200\n",
      "16/16 [==============================] - 0s 312us/sample - loss: 99776424.0000\n",
      "Epoch 107/200\n",
      "16/16 [==============================] - 0s 312us/sample - loss: 99753104.0000\n",
      "Epoch 108/200\n",
      "16/16 [==============================] - 0s 312us/sample - loss: 99727672.0000\n",
      "Epoch 109/200\n",
      "16/16 [==============================] - 0s 247us/sample - loss: 99700512.0000\n",
      "Epoch 110/200\n",
      "16/16 [==============================] - 0s 312us/sample - loss: 99671752.0000\n",
      "Epoch 111/200\n",
      "16/16 [==============================] - 0s 312us/sample - loss: 99642480.0000\n",
      "Epoch 112/200\n",
      "16/16 [==============================] - 0s 312us/sample - loss: 99613168.0000\n",
      "Epoch 113/200\n",
      "16/16 [==============================] - 0s 374us/sample - loss: 99584208.0000\n",
      "Epoch 114/200\n",
      "16/16 [==============================] - 0s 312us/sample - loss: 99555856.0000\n",
      "Epoch 115/200\n",
      "16/16 [==============================] - 0s 312us/sample - loss: 99528384.0000\n",
      "Epoch 116/200\n",
      "16/16 [==============================] - 0s 312us/sample - loss: 99502000.0000\n",
      "Epoch 117/200\n",
      "16/16 [==============================] - 0s 312us/sample - loss: 99476840.0000\n",
      "Epoch 118/200\n",
      "16/16 [==============================] - 0s 249us/sample - loss: 99453000.0000\n",
      "Epoch 119/200\n",
      "16/16 [==============================] - 0s 249us/sample - loss: 99430528.0000\n",
      "Epoch 120/200\n",
      "16/16 [==============================] - 0s 312us/sample - loss: 99409408.0000\n",
      "Epoch 121/200\n",
      "16/16 [==============================] - 0s 312us/sample - loss: 99389592.0000\n",
      "Epoch 122/200\n",
      "16/16 [==============================] - 0s 312us/sample - loss: 99371008.0000\n",
      "Epoch 123/200\n",
      "16/16 [==============================] - 0s 312us/sample - loss: 99353584.0000\n",
      "Epoch 124/200\n",
      "16/16 [==============================] - 0s 312us/sample - loss: 99337200.0000\n",
      "Epoch 125/200\n",
      "16/16 [==============================] - 0s 310us/sample - loss: 99321728.0000\n",
      "Epoch 126/200\n",
      "16/16 [==============================] - 0s 312us/sample - loss: 99307056.0000\n",
      "Epoch 127/200\n",
      "16/16 [==============================] - 0s 312us/sample - loss: 99293048.0000\n",
      "Epoch 128/200\n",
      "16/16 [==============================] - 0s 312us/sample - loss: 99279616.0000\n",
      "Epoch 129/200\n",
      "16/16 [==============================] - 0s 312us/sample - loss: 99266576.0000\n",
      "Epoch 130/200\n",
      "16/16 [==============================] - 0s 312us/sample - loss: 99253888.0000\n",
      "Epoch 131/200\n",
      "16/16 [==============================] - 0s 374us/sample - loss: 99241424.0000\n",
      "Epoch 132/200\n",
      "16/16 [==============================] - 0s 312us/sample - loss: 99229096.0000\n",
      "Epoch 133/200\n",
      "16/16 [==============================] - 0s 312us/sample - loss: 99216832.0000\n",
      "Epoch 134/200\n",
      "16/16 [==============================] - 0s 312us/sample - loss: 99204576.0000\n",
      "Epoch 135/200\n",
      "16/16 [==============================] - 0s 310us/sample - loss: 99192272.0000\n",
      "Epoch 136/200\n",
      "16/16 [==============================] - 0s 312us/sample - loss: 99179872.0000\n",
      "Epoch 137/200\n",
      "16/16 [==============================] - 0s 312us/sample - loss: 99167352.0000\n",
      "Epoch 138/200\n",
      "16/16 [==============================] - 0s 374us/sample - loss: 99154704.0000\n",
      "Epoch 139/200\n",
      "16/16 [==============================] - 0s 312us/sample - loss: 99141896.0000\n",
      "Epoch 140/200\n",
      "16/16 [==============================] - 0s 312us/sample - loss: 99128944.0000\n",
      "Epoch 141/200\n",
      "16/16 [==============================] - 0s 312us/sample - loss: 99115848.0000\n",
      "Epoch 142/200\n",
      "16/16 [==============================] - 0s 312us/sample - loss: 99102616.0000\n",
      "Epoch 143/200\n",
      "16/16 [==============================] - 0s 312us/sample - loss: 99089224.0000\n",
      "Epoch 144/200\n",
      "16/16 [==============================] - 0s 312us/sample - loss: 99075712.0000\n",
      "Epoch 145/200\n",
      "16/16 [==============================] - 0s 312us/sample - loss: 99062104.0000\n",
      "Epoch 146/200\n",
      "16/16 [==============================] - 0s 312us/sample - loss: 99048384.0000\n",
      "Epoch 147/200\n",
      "16/16 [==============================] - 0s 312us/sample - loss: 99034584.0000\n",
      "Epoch 148/200\n",
      "16/16 [==============================] - 0s 314us/sample - loss: 99020720.0000\n",
      "Epoch 149/200\n",
      "16/16 [==============================] - 0s 312us/sample - loss: 99006792.0000\n",
      "Epoch 150/200\n",
      "16/16 [==============================] - 0s 312us/sample - loss: 98992816.0000\n",
      "Epoch 151/200\n",
      "16/16 [==============================] - 0s 312us/sample - loss: 98978832.0000\n",
      "Epoch 152/200\n",
      "16/16 [==============================] - 0s 312us/sample - loss: 98964808.0000\n",
      "Epoch 153/200\n",
      "16/16 [==============================] - 0s 310us/sample - loss: 98950768.0000\n",
      "Epoch 154/200\n",
      "16/16 [==============================] - 0s 312us/sample - loss: 98936704.0000\n",
      "Epoch 155/200\n",
      "16/16 [==============================] - 0s 312us/sample - loss: 98922640.0000\n",
      "Epoch 156/200\n",
      "16/16 [==============================] - 0s 374us/sample - loss: 98908560.0000\n",
      "Epoch 157/200\n",
      "16/16 [==============================] - 0s 312us/sample - loss: 98894464.0000\n",
      "Epoch 158/200\n",
      "16/16 [==============================] - 0s 249us/sample - loss: 98880384.0000\n",
      "Epoch 159/200\n",
      "16/16 [==============================] - 0s 312us/sample - loss: 98866280.0000\n",
      "Epoch 160/200\n",
      "16/16 [==============================] - 0s 249us/sample - loss: 98852168.0000\n",
      "Epoch 161/200\n",
      "16/16 [==============================] - 0s 312us/sample - loss: 98838048.0000\n",
      "Epoch 162/200\n",
      "16/16 [==============================] - 0s 374us/sample - loss: 98823904.0000\n",
      "Epoch 163/200\n",
      "16/16 [==============================] - 0s 312us/sample - loss: 98809760.0000\n",
      "Epoch 164/200\n",
      "16/16 [==============================] - 0s 311us/sample - loss: 98795584.0000\n",
      "Epoch 165/200\n",
      "16/16 [==============================] - 0s 312us/sample - loss: 98781376.0000\n",
      "Epoch 166/200\n",
      "16/16 [==============================] - 0s 312us/sample - loss: 98767152.0000\n",
      "Epoch 167/200\n",
      "16/16 [==============================] - 0s 310us/sample - loss: 98752784.0000\n",
      "Epoch 168/200\n",
      "16/16 [==============================] - 0s 374us/sample - loss: 98738352.0000\n",
      "Epoch 169/200\n",
      "16/16 [==============================] - 0s 249us/sample - loss: 98723880.0000\n",
      "Epoch 170/200\n",
      "16/16 [==============================] - 0s 249us/sample - loss: 98709344.0000\n",
      "Epoch 171/200\n",
      "16/16 [==============================] - 0s 312us/sample - loss: 98694792.0000\n",
      "Epoch 172/200\n",
      "16/16 [==============================] - 0s 312us/sample - loss: 98680152.0000\n",
      "Epoch 173/200\n",
      "16/16 [==============================] - 0s 312us/sample - loss: 98665472.0000\n",
      "Epoch 174/200\n",
      "16/16 [==============================] - 0s 312us/sample - loss: 98650752.0000\n",
      "Epoch 175/200\n",
      "16/16 [==============================] - 0s 312us/sample - loss: 98635968.0000\n",
      "Epoch 176/200\n",
      "16/16 [==============================] - 0s 312us/sample - loss: 98621152.0000\n",
      "Epoch 177/200\n",
      "16/16 [==============================] - 0s 312us/sample - loss: 98606272.0000\n",
      "Epoch 178/200\n",
      "16/16 [==============================] - 0s 251us/sample - loss: 98591984.0000\n"
     ]
    },
    {
     "name": "stdout",
     "output_type": "stream",
     "text": [
      "Epoch 179/200\n",
      "16/16 [==============================] - 0s 312us/sample - loss: 98577728.0000\n",
      "Epoch 180/200\n",
      "16/16 [==============================] - 0s 312us/sample - loss: 98563416.0000\n",
      "Epoch 181/200\n",
      "16/16 [==============================] - 0s 311us/sample - loss: 98549040.0000\n",
      "Epoch 182/200\n",
      "16/16 [==============================] - 0s 311us/sample - loss: 98534608.0000\n",
      "Epoch 183/200\n",
      "16/16 [==============================] - 0s 312us/sample - loss: 98520120.0000\n",
      "Epoch 184/200\n",
      "16/16 [==============================] - 0s 312us/sample - loss: 98505560.0000\n",
      "Epoch 185/200\n",
      "16/16 [==============================] - 0s 312us/sample - loss: 98490960.0000\n",
      "Epoch 186/200\n",
      "16/16 [==============================] - 0s 314us/sample - loss: 98476328.0000\n",
      "Epoch 187/200\n",
      "16/16 [==============================] - 0s 249us/sample - loss: 98461616.0000\n",
      "Epoch 188/200\n",
      "16/16 [==============================] - 0s 249us/sample - loss: 98446864.0000\n",
      "Epoch 189/200\n",
      "16/16 [==============================] - 0s 312us/sample - loss: 98432056.0000\n",
      "Epoch 190/200\n",
      "16/16 [==============================] - 0s 312us/sample - loss: 98417200.0000\n",
      "Epoch 191/200\n",
      "16/16 [==============================] - 0s 312us/sample - loss: 98402304.0000\n",
      "Epoch 192/200\n",
      "16/16 [==============================] - 0s 374us/sample - loss: 98387376.0000\n",
      "Epoch 193/200\n",
      "16/16 [==============================] - 0s 312us/sample - loss: 98372384.0000\n",
      "Epoch 194/200\n",
      "16/16 [==============================] - 0s 312us/sample - loss: 98357344.0000\n",
      "Epoch 195/200\n",
      "16/16 [==============================] - 0s 311us/sample - loss: 98342264.0000\n",
      "Epoch 196/200\n",
      "16/16 [==============================] - 0s 252us/sample - loss: 98327152.0000\n",
      "Epoch 197/200\n",
      "16/16 [==============================] - 0s 312us/sample - loss: 98311984.0000\n",
      "Epoch 198/200\n",
      "16/16 [==============================] - 0s 312us/sample - loss: 98296784.0000\n",
      "Epoch 199/200\n",
      "16/16 [==============================] - 0s 312us/sample - loss: 98281520.0000\n",
      "Epoch 200/200\n",
      "16/16 [==============================] - 0s 249us/sample - loss: 98266224.0000\n"
     ]
    },
    {
     "data": {
      "text/plain": [
       "<tensorflow.python.keras.callbacks.History at 0x2012bccdf48>"
      ]
     },
     "execution_count": 57,
     "metadata": {},
     "output_type": "execute_result"
    }
   ],
   "source": [
    "model.fit(x_train, y_train, epochs = 200)"
   ]
  }
 ],
 "metadata": {
  "kernelspec": {
   "display_name": "Python 3",
   "language": "python",
   "name": "python3"
  },
  "language_info": {
   "codemirror_mode": {
    "name": "ipython",
    "version": 3
   },
   "file_extension": ".py",
   "mimetype": "text/x-python",
   "name": "python",
   "nbconvert_exporter": "python",
   "pygments_lexer": "ipython3",
   "version": "3.7.7"
  }
 },
 "nbformat": 4,
 "nbformat_minor": 4
}
